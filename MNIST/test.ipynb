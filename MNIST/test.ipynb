{
 "cells": [
  {
   "cell_type": "code",
   "execution_count": 3,
   "metadata": {
    "collapsed": true
   },
   "outputs": [],
   "source": [
    "import tensorflow as tf\n",
    "import numpy as np\n",
    "batch_size = None\n",
    "dim = 2\n",
    "category_num = 10"
   ]
  },
  {
   "cell_type": "code",
   "execution_count": 4,
   "metadata": {},
   "outputs": [],
   "source": [
    "def validation(x_values, centers, label_values, category_num):\n",
    "    x_values = np.array(x_values)\n",
    "    centers = np.array(centers)\n",
    "    label_values = np.asarray(label_values, np.uint8)\n",
    "    loss_value = 0.0\n",
    "    for i in range(category_num):\n",
    "        cur_x_values = x_values[label_values == i]\n",
    "        cur_center = centers[i]\n",
    "        for x_value in cur_x_values:\n",
    "            cur_distance = 0.0\n",
    "            for j in range(len(x_value)):\n",
    "                cur_distance += (x_value[j]-cur_center[j])**2\n",
    "            loss_value += cur_distance\n",
    "    return loss_value"
   ]
  },
  {
   "cell_type": "code",
   "execution_count": 5,
   "metadata": {},
   "outputs": [],
   "source": [
    "def calculate_centerloss(x_tensor, label_tensor, centers_tensor, category_num):\n",
    "    loss_tensor = tf.Variable(initial_value=0.0, trainable=False, dtype=tf.float32)\n",
    "    for i in range(category_num):\n",
    "        selected_x = tf.gather(x_tensor, \n",
    "                               tf.cast(\n",
    "                                   tf.squeeze(\n",
    "                                       tf.where(\n",
    "                                           tf.equal(\n",
    "                                               label_tensor, \n",
    "                                               [i]\n",
    "                                           ), \n",
    "                                           None, \n",
    "                                           None\n",
    "                                       )\n",
    "                                   ),tf.int32))\n",
    "        selected_y = tf.convert_to_tensor(centers_tensor[i], dtype=tf.float32)\n",
    "        selected_x2 = tf.multiply(selected_x, selected_x)\n",
    "        selected_y2 = tf.multiply(selected_y, selected_y)\n",
    "        selected_xy = tf.multiply(selected_x, selected_y)\n",
    "        distance_category = tf.subtract(tf.add(selected_x2, selected_y2), 2*selected_xy)\n",
    "        distance_category = tf.reduce_sum(distance_category)\n",
    "        loss_tensor = tf.add(loss_tensor, distance_category)\n",
    "    return loss_tensor"
   ]
  },
  {
   "cell_type": "code",
   "execution_count": 8,
   "metadata": {
    "collapsed": false
   },
   "outputs": [
    {
     "name": "stdout",
     "output_type": "stream",
     "text": [
      "531.0\n531.0\n"
     ]
    }
   ],
   "source": [
    "label_tensor = tf.placeholder(dtype=tf.float32, shape=[batch_size], name='input_y')\n",
    "x_tensor = tf.placeholder(dtype=tf.float32, shape=[batch_size, dim], name='input_x')\n",
    "centers_tensor = tf.placeholder(dtype=tf.float32, shape=[category_num, dim])\n",
    "centers_values = np.random.randint(1, 10, [category_num, dim])\n",
    "x_values = np.random.randint(1, 10, [20, dim])\n",
    "label_values = np.random.randint(1, 10, [20]).squeeze()\n",
    "print validation(x_values, centers_values, label_values, category_num=category_num)\n",
    "loss_tensor = calculate_centerloss(x_tensor, label_tensor, centers_tensor, category_num=category_num)\n",
    "with tf.Session() as sess:\n",
    "    init_op = tf.global_variables_initializer()\n",
    "    sess.run(init_op)\n",
    "    loss_value = sess.run(loss_tensor, feed_dict={\n",
    "        label_tensor: label_values,\n",
    "        x_tensor: x_values,\n",
    "        centers_tensor:centers_values\n",
    "    })\n",
    "    print loss_value"
   ]
  },
  {
   "cell_type": "code",
   "execution_count": 147,
   "metadata": {},
   "outputs": [
    {
     "name": "stdout",
     "output_type": "stream",
     "text": [
      "Tensor(\"Squeeze_123:0\", shape=(4,), dtype=float32)\nTensor(\"Equal_522:0\", shape=(4,), dtype=bool)\n"
     ]
    }
   ],
   "source": [
    "tensor1 = tf.placeholder(dtype=tf.float32, shape=[4, 2])\n",
    "tensor2 = tf.placeholder(dtype=tf.float32, shape=[4])\n",
    "tensor3 = tf.placeholder(dtype=tf.int32, shape=[4])\n",
    "print tf.squeeze(tensor2)\n",
    "print tf.equal(tf.squeeze(tensor2), tf.squeeze(tensor2))\n",
    "# tensor3 = tensor1[tf.squeeze(tf.where(tf.equal(tf.squeeze(tensor2), tf.squeeze(tensor2)), None, None))]\n",
    "tensor4 = tf.gather(tensor1, tf.squeeze(tf.where(tf.equal(tensor2, tensor2))))"
   ]
  },
  {
   "cell_type": "code",
   "execution_count": 148,
   "metadata": {},
   "outputs": [
    {
     "name": "stdout",
     "output_type": "stream",
     "text": [
      "[[4 3]\n [4 2]\n [3 2]\n [3 3]]\n[2 1 1 1]\n[0 1 2 3]\n"
     ]
    },
    {
     "name": "stdout",
     "output_type": "stream",
     "text": [
      "[[ 4.  3.]\n [ 4.  2.]\n [ 3.  2.]\n [ 3.  3.]]\n"
     ]
    }
   ],
   "source": [
    "with tf.Session() as sess:\n",
    "    value1 = np.random.randint(1, 5, [4, 2])\n",
    "    value2 = np.random.randint(1, 3, [4]).squeeze()\n",
    "    print value1\n",
    "    print value2\n",
    "    equal_tensor = tf.squeeze(tf.where(tf.equal(tf.squeeze(tensor2), tf.squeeze(tensor2)), None, None))\n",
    "    print sess.run(equal_tensor, feed_dict={tensor2:value2})\n",
    "    value4 = sess.run(tensor4, feed_dict={\n",
    "        tensor1: value1,\n",
    "        tensor2: value2\n",
    "    })\n",
    "    print value4"
   ]
  },
  {
   "cell_type": "code",
   "execution_count": null,
   "metadata": {},
   "outputs": [
    {
     "name": "stdout",
     "output_type": "stream",
     "text": [
      "[ True False  True]\n"
     ]
    }
   ],
   "source": [
    "tensor1 = tf.placeholder(dtype=tf.float32, shape=[4, 2])\n",
    "tensor2 = tf.placeholder(dtype=tf.float32, shape=[4])\n",
    "tensor3 = tf.placeholder(dtype=tf.int32, shape=[3])\n",
    "\n",
    "yt = tf.constant([10,1,10])\n",
    "print len(yt)\n",
    "a = tf.constant([1,2,3])\n",
    "b = tf.constant([3,4,5])\n",
    "result = tf.equal(yt, [10] * 3)\n",
    "with tf.Session() as sess:\n",
    "    print sess.run(result)"
   ]
  },
  {
   "cell_type": "code",
   "execution_count": null,
   "metadata": {},
   "outputs": [],
   "source": [
    ""
   ]
  }
 ],
 "metadata": {
  "kernelspec": {
   "display_name": "Python 2",
   "language": "python",
   "name": "python2"
  },
  "language_info": {
   "codemirror_mode": {
    "name": "ipython",
    "version": 2.0
   },
   "file_extension": ".py",
   "mimetype": "text/x-python",
   "name": "python",
   "nbconvert_exporter": "python",
   "pygments_lexer": "ipython2",
   "version": "2.7.6"
  }
 },
 "nbformat": 4,
 "nbformat_minor": 0
}